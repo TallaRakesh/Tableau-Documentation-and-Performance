{
 "cells": [
  {
   "cell_type": "code",
   "execution_count": 14,
   "metadata": {},
   "outputs": [],
   "source": [
    "import os\n",
    "import pandas as pd\n",
    "from tableaudocumentapi import Workbook\n"
   ]
  },
  {
   "cell_type": "code",
   "execution_count": null,
   "metadata": {},
   "outputs": [],
   "source": [
    "workbook_to_open = Workbook('Give your workbook name')\n",
    "datasource_fields_list = []\n",
    "for datasource in workbook_to_open.datasources:\n",
    "    for field in datasource.fields.values():\n",
    "        for worksheet in field.worksheets:\n",
    "            datasource_fields_list.append([field.name,field.id,field.role,field.calculation,field.datatype,datasource.name,worksheet,workbook_to_open.filename])\n",
    "fields_data = pd.DataFrame(datasource_fields_list,columns =['name', 'id','role','calculation','datatype','datasource','worksheet','workbook'])\n",
    "fields_data.to_excel(\"Fields Info.xlsx\",index=False)\n",
    "\n"
   ]
  },
  {
   "cell_type": "code",
   "execution_count": null,
   "metadata": {},
   "outputs": [],
   "source": [
    "print('----------------------------------------------------------')\n",
    "print('-- Info for our .twbx:')\n",
    "print('--   name:\\t{0}'.format(workbook_to_open.filename))\n",
    "print('--   CONTENTS')\n",
    "print('--   dashboards:\\t{0}'.format(len(workbook_to_open.dashboards)))\n",
    "for dash in workbook_to_open.dashboards:\n",
    "    print(\"--      {}\".format(dash))\n",
    "\n",
    "print('--   datasources:\\t{0}'.format(len(workbook_to_open.datasources)))\n",
    "for data in workbook_to_open.datasources:\n",
    "    print(\"--      {}\".format(data.name))\n",
    "\n",
    "print('--   worksheets:\\t{0}'.format(len(workbook_to_open.worksheets)))\n",
    "for data in workbook_to_open.worksheets:\n",
    "    print(\"--      {}\".format(data))\n",
    "\n",
    "print('--   shapes:\\t{0}'.format(len(workbook_to_open.shapes)))\n",
    "for shape in workbook_to_open.shapes:\n",
    "    print(\"--      {}\".format(shape))\n",
    "print('----------------------------------------------------------')"
   ]
  },
  {
   "cell_type": "code",
   "execution_count": null,
   "metadata": {},
   "outputs": [],
   "source": [
    "\n",
    "worksheets = workbook_to_open.worksheets\n",
    "for worksheet in worksheets:\n",
    "    print(\"worksheet: {}\".format(worksheet))\n",
    "    for datasource in workbook_to_open.datasources:\n",
    "        print(\"-- datasource: {}\".format(datasource.name))\n",
    "        for count, field in enumerate(datasource.fields.values()):\n",
    "            if worksheet in field.worksheets:\n",
    "                print(field)"
   ]
  }
 ],
 "metadata": {
  "interpreter": {
   "hash": "49d957b6ec2796e0c46427939a334fe8afbd028ece68c87379a86ea09886a698"
  },
  "kernelspec": {
   "display_name": "Python 3.10.2 64-bit",
   "language": "python",
   "name": "python3"
  },
  "language_info": {
   "codemirror_mode": {
    "name": "ipython",
    "version": 3
   },
   "file_extension": ".py",
   "mimetype": "text/x-python",
   "name": "python",
   "nbconvert_exporter": "python",
   "pygments_lexer": "ipython3",
   "version": "3.10.2"
  },
  "orig_nbformat": 4
 },
 "nbformat": 4,
 "nbformat_minor": 2
}
